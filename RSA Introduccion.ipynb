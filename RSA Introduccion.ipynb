{
 "cells": [
  {
   "cell_type": "markdown",
   "id": "a09f291f",
   "metadata": {},
   "source": [
    "# RSA\n",
    "\n",
    "Este Notebook sobre encripción RSA es una combinación del código habitual para realizar este tipo de encriptación acompañado de la descripción correspondiente de cada bloque. Puedes ejecutar cada sección seleccionandola y presionando ```RUN``` en la parte superior de esta pantalla o simplemente selecionando ```RUN ALL```desde el menún ```Cell```."
   ]
  },
  {
   "cell_type": "markdown",
   "id": "cc5c499c",
   "metadata": {},
   "source": [
    "## Prerrequisitos"
   ]
  },
  {
   "cell_type": "code",
   "execution_count": 24,
   "id": "bced67c1",
   "metadata": {},
   "outputs": [],
   "source": [
    "import random  # Vamos a necesitar números aleatorios\n",
    "import math    # También vamos a necesitar algunas funciones matemáticas\n",
    "\n",
    "# Inverso multiplicativo de k en los enteros módulo p, con p preferentemente primo para garantizar unicidad.\n",
    "def modInverse(k, p):\n",
    "    k = k % p\n",
    "    for x in range(1, p):\n",
    "        if ((k * x) % p == 1):\n",
    "            return x\n",
    "    return 1"
   ]
  },
  {
   "cell_type": "markdown",
   "id": "de2568f6",
   "metadata": {},
   "source": [
    "Si estás familiarizado con la función módulo para formar los campos $Z_p$ (los enteros módulo $p$ con $p$ primo) entonces solo necesitas saber que ```modInverse(k, p)``` calcula el inverso multiplicativo de $k$ dentro del campo $Z_p$. Si lo que te acabo de decir no tiene sentido, entonces lee los siguientes párrafos:\n",
    "\n",
    "### Módulos\n",
    "> Pensemos brevemente en las horas del reloj, estas van de la hora 1 a la hora 12 para luego repetirse. Después del 12, el siguiente número que debería ser el 13 se vuelve a representar como el 1, el 14 como el 2 y así sucesivamente. Formalmente decimos que el número 13 es congruente con 1 módulo 12 y que 14 es congruente con 2 módulo 12. El 15 sería entonces congruente con 3 (módulo 12) lo cual se denota de la siguiente manera: $$15 \\equiv 3 (mod 12)$$ $$ó$$ $$15\\%12 = 3$$Lo cual se lee **15 es equivalente con 3 modulo 12**, ó **15 módulo 12 es igual a 3**.\n",
    "> El ciclo se repite haciendo que en algún momento 27 también sea congruente con 3 (módulo 12), haciendo un poco las cuentas puedes ver que los números 3, 15, 27 y 39 son todos 3 módulo 12.\n",
    "\n",
    "### Inversos en $Z_p$\n",
    "> Ahora vamos con los inversos. El inverso multiplicativo de $A$ es aquel número $B$ tal que $A \\times B = 1$. En el campo de los números reales el inverso de $A$ es $\\frac{1}{A}$ ya que $A \\times \\frac{1}{A} = \\frac{A}{A} = 1$, pero en los enteros módulo p es diferente. Por ejemplo en los enteros módulo $3$, $2 \\times 2 = 4$ pero $4$ es equivalente a $1$ módulo $3$, por lo tanto $2$ es su propio inverso. En $Z_5$ el $2$ tiene como inverso al $3$ y visceversa, y el $4$ es su propio inverso al igual que el $1$.\n",
    "\n",
    "### Función $\\phi$ de Euler\n",
    "> La funcion $\\phi$ de Euler es una función importante en teoría de números que va de los naturales en los naturales. $\\phi(n)$ se define como la cantidad de naturales menores que $n$ que son primos relativos con él. Euler probó un teorema que lleva su nombre que dice que si $a$ y $n$ son primos relativos, entonces $a^{\\phi (n)} \\equiv 1$ $(mod$ $n)$."
   ]
  },
  {
   "cell_type": "code",
   "execution_count": 18,
   "id": "a7b34d5a",
   "metadata": {},
   "outputs": [
    {
     "data": {
      "text/plain": [
       "[2, 3, 4, 2, 23]"
      ]
     },
     "execution_count": 18,
     "metadata": {},
     "output_type": "execute_result"
    }
   ],
   "source": [
    "[\n",
    "modInverse(2,3),  # Obtenemos el inverso del 2 módulo 3\n",
    "modInverse(2,5),  # Inverso de 2 módulo 5\n",
    "modInverse(4,5),  # Inverso de 4 módulo 5\n",
    "modInverse(modInverse(2,5),5),  # Inverso del inverso de 2 módulo 5\n",
    "modInverse(7,40)\n",
    "]"
   ]
  },
  {
   "cell_type": "markdown",
   "id": "e73e5378",
   "metadata": {},
   "source": [
    "## Preparando al algoritmo RSA\n",
    "Ahora sí, para comenzar el algoritmo solo debemos escoger 2 números primos $p$ y $q$ y multiplicarlos para obtener lo que llamarémos **módulo público**: "
   ]
  },
  {
   "cell_type": "code",
   "execution_count": 20,
   "id": "2cada626",
   "metadata": {},
   "outputs": [],
   "source": [
    "p = 3\n",
    "q = 5\n",
    "moduloPublico = p * q"
   ]
  },
  {
   "cell_type": "markdown",
   "id": "476d8e4d",
   "metadata": {},
   "source": [
    "Ahora calcularemos la cantidad de primos relativos entre 1 y el **módulo público** que es el producto de $(p-1)(q-1)$. A este número lo llamarémos $phi$ por la función de Euler mencionada más arriba."
   ]
  },
  {
   "cell_type": "code",
   "execution_count": 21,
   "id": "0e4b71d4",
   "metadata": {},
   "outputs": [
    {
     "name": "stdout",
     "output_type": "stream",
     "text": [
      "Módulo público: 15    phi: 8\n"
     ]
    }
   ],
   "source": [
    "phi = (p-1)*(q-1)\n",
    "print(\"Módulo público: {}    phi: {}\".format(moduloPublico, phi))"
   ]
  },
  {
   "cell_type": "markdown",
   "id": "5fceed1d",
   "metadata": {},
   "source": [
    "Ahora tomaremos un número $expPub$ que será parte de nuestra llave pública. $expPub$ debe estar entre 1 y $phi$ y debe ser primo relativo con $phi$: "
   ]
  },
  {
   "cell_type": "code",
   "execution_count": 22,
   "id": "c305e57c",
   "metadata": {},
   "outputs": [
    {
     "name": "stdout",
     "output_type": "stream",
     "text": [
      "expPub:  7\n"
     ]
    }
   ],
   "source": [
    "expPub = random.randrange(1, phi)\n",
    "while (math.gcd(expPub, phi) != 1):    # Si el gcd (maximo común divisor) es 1, entonces son primos relativos.\n",
    "    expPub = random.randrange(1, phi)\n",
    "print(\"expPub: \", expPub)"
   ]
  },
  {
   "cell_type": "code",
   "execution_count": null,
   "id": "845a94c8",
   "metadata": {},
   "outputs": [],
   "source": [
    "expPub = expPub   # Esta línea es por si quieres elegir tu propio exp."
   ]
  },
  {
   "cell_type": "markdown",
   "id": "28e8e221",
   "metadata": {},
   "source": [
    "Por último necesitamos calcular el inverso modulo $phi$ de $expPub$, para obtener nuestro exponente privado al que llamarémos \n",
    "$expPriv$:"
   ]
  },
  {
   "cell_type": "code",
   "execution_count": 27,
   "id": "1a188152",
   "metadata": {},
   "outputs": [
    {
     "name": "stdout",
     "output_type": "stream",
     "text": [
      "expPriv:  7\n"
     ]
    }
   ],
   "source": [
    "expPriv = modInverse(expPub, phi)\n",
    "print(\"expPriv: \", expPriv)"
   ]
  },
  {
   "cell_type": "markdown",
   "id": "591f685a",
   "metadata": {},
   "source": [
    "### Obteniendo la llave pública y la llave privada\n",
    "Una vez que tenemos nuestros primos $p$ y $q$, nuestros **módulo público** y nuestros **exponentes público** y **privado** podemos crear nuestras llave pública y nuestra llave privada. \n",
    "\n",
    "La llave pública se conforma por el **módulo público** y por el **exponente público**.\n",
    "\n",
    "La llave privada se conforma por $p$, $q$ y el **exponente privado**."
   ]
  },
  {
   "cell_type": "code",
   "execution_count": 28,
   "id": "866e072c",
   "metadata": {},
   "outputs": [
    {
     "name": "stdout",
     "output_type": "stream",
     "text": [
      "Llave pública: (15, 7)\n"
     ]
    }
   ],
   "source": [
    "print(\"Llave pública: ({}, {})\".format(moduloPublico, expPub))"
   ]
  },
  {
   "cell_type": "code",
   "execution_count": 29,
   "id": "0e2ba2e6",
   "metadata": {},
   "outputs": [
    {
     "name": "stdout",
     "output_type": "stream",
     "text": [
      "Llave privada: (7, 3, 5)\n"
     ]
    }
   ],
   "source": [
    "print(\"Llave privada: ({}, {}, {})\".format(expPriv, p, q))"
   ]
  },
  {
   "cell_type": "markdown",
   "id": "c056e75f",
   "metadata": {},
   "source": [
    "### ¡A encriptar!\n",
    "Una vez que tenemos la llave pública, podemos difundirla para que cualquier persona pueda encriptar mensajes que solo nosotros podamos desencriptar.\n",
    "\n",
    "Supongamos que alguien quiere encriptar un número, su PIN bancario por ejemplo, que en este caso va a ser la clave siempre infalible $123$."
   ]
  },
  {
   "cell_type": "code",
   "execution_count": 33,
   "id": "c0912cd3",
   "metadata": {},
   "outputs": [
    {
     "name": "stdout",
     "output_type": "stream",
     "text": [
      "La clave es:  12\n",
      "La clave encriptada es:  3\n"
     ]
    }
   ],
   "source": [
    "clave = 12\n",
    "print (\"La clave es: \", clave)\n",
    "claveEncriptada = (clave ** expPub) % moduloPublico\n",
    "print (\"La clave encriptada es: \", claveEncriptada)"
   ]
  },
  {
   "cell_type": "markdown",
   "id": "9a8fce68",
   "metadata": {},
   "source": [
    "### ¡A desencriptar!\n",
    "Si nosotros fueramos el banco, podemos hacer que cada cajero tenga la llave pública, así puede encriptar el PIN de cada usuario y hacernoslo llegar. En este caso nos lo hace llegar con la clave encriptada. \n",
    "\n",
    "Desencriptemos el mensaje:"
   ]
  },
  {
   "cell_type": "code",
   "execution_count": 36,
   "id": "5688904a",
   "metadata": {},
   "outputs": [
    {
     "name": "stdout",
     "output_type": "stream",
     "text": [
      "La clave desencriptada es:  12\n",
      "15\n",
      "15\n"
     ]
    }
   ],
   "source": [
    "claveEncriptadaRecibida = 3\n",
    "claveDesencriptada = (claveEncriptadaRecibida ** expPriv) % (moduloPublico)   # moduloPublico = pq\n",
    "print (\"La clave desencriptada es: \", claveDesencriptada)"
   ]
  },
  {
   "cell_type": "markdown",
   "id": "610e29d8",
   "metadata": {},
   "source": [
    "### ¿Porqué funciona?\n",
    "Observa que todo el truco está en que exista la operación inversa, lo cual está garantizado por el Teorema de Euler que dice que si $a$ y $n$ son primos relativos, entonces $a^{\\phi (n)} \\equiv 1$ $(mod$ $n)$."
   ]
  },
  {
   "cell_type": "code",
   "execution_count": null,
   "id": "e803d832",
   "metadata": {},
   "outputs": [],
   "source": []
  }
 ],
 "metadata": {
  "kernelspec": {
   "display_name": "Python 3 (ipykernel)",
   "language": "python",
   "name": "python3"
  },
  "language_info": {
   "codemirror_mode": {
    "name": "ipython",
    "version": 3
   },
   "file_extension": ".py",
   "mimetype": "text/x-python",
   "name": "python",
   "nbconvert_exporter": "python",
   "pygments_lexer": "ipython3",
   "version": "3.9.12"
  }
 },
 "nbformat": 4,
 "nbformat_minor": 5
}
